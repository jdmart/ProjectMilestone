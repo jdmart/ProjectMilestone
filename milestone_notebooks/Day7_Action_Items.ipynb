{
 "cells": [
  {
   "cell_type": "code",
   "execution_count": 43,
   "metadata": {},
   "outputs": [],
   "source": [
    "import numpy as np\n",
    "import pandas as pd\n",
    "from random import randrange\n",
    "from datetime import timedelta\n",
    "import datetime as dt"
   ]
  },
  {
   "cell_type": "code",
   "execution_count": 44,
   "metadata": {},
   "outputs": [
    {
     "name": "stdout",
     "output_type": "stream",
     "text": [
      "True\n",
      "False\n",
      "True\n",
      "True\n",
      "False\n",
      "False\n",
      "False\n",
      "False\n",
      "True\n",
      "True\n"
     ]
    }
   ],
   "source": [
    "gen = (True if y > 0.5 else False for y in np.random.random(10))\n",
    "for bl in gen:\n",
    "    print(bl)"
   ]
  },
  {
   "cell_type": "code",
   "execution_count": 70,
   "metadata": {},
   "outputs": [
    {
     "name": "stdout",
     "output_type": "stream",
     "text": [
      "       nums  bools   strings            datetime\n",
      "0  0.607959   True        hi 2008-05-28 01:22:49\n",
      "1  0.191420  False       bye 2008-04-30 05:30:19\n",
      "2  0.365450  False       car 2008-07-21 11:47:28\n",
      "3  0.885886  False       bug 2008-03-19 22:01:36\n",
      "4  0.201865   True       vet 2008-02-07 01:04:55\n",
      "5  0.444713  False       pen 2008-10-31 02:53:51\n",
      "6  0.158571   True    animal 2008-01-08 12:46:30\n",
      "7  0.353660   True     phone 2008-04-03 15:42:11\n",
      "8  0.544198  False  computer 2008-05-28 09:32:36\n",
      "9  0.132001   True       mic 2008-08-25 17:39:26\n"
     ]
    }
   ],
   "source": [
    "from random import randrange\n",
    "from datetime import timedelta\n",
    "\n",
    "def random_date(start, end):\n",
    "    \"\"\"\n",
    "    This function will return a random datetime between two datetime \n",
    "    objects.\n",
    "    \"\"\"\n",
    "    delta = end - start\n",
    "    int_delta = (delta.days * 24 * 60 * 60) + delta.seconds\n",
    "    random_second = randrange(int_delta)\n",
    "    return start + timedelta(seconds=random_second)\n",
    "\n",
    "strings = [\"hi\", \"bye\", \"car\", \"bug\", \"vet\", \"pen\", \"animal\", \"phone\", \"computer\", \"mic\"]\n",
    "d1 = dt.datetime.strptime('1/1/2008 1:30 PM', '%m/%d/%Y %I:%M %p')\n",
    "d2 = dt.datetime.strptime('1/1/2009 4:50 AM', '%m/%d/%Y %I:%M %p')\n",
    "datetimes = [random_date(d1, d2) for x in range(10)]\n",
    "data = { 'nums': np.random.random(10), 'bools': [x for x in (True if y > 0.5 else False for y in np.random.random(10))], 'strings': strings, 'datetime': datetimes}\n",
    "df = pd.DataFrame(data=data)\n",
    "print(df)"
   ]
  },
  {
   "cell_type": "code",
   "execution_count": 71,
   "metadata": {},
   "outputs": [
    {
     "name": "stdout",
     "output_type": "stream",
     "text": [
      "0    0.607959\n",
      "1    0.191420\n",
      "2    0.365450\n",
      "3    0.885886\n",
      "4    0.201865\n",
      "5    0.444713\n",
      "6    0.158571\n",
      "7    0.353660\n",
      "8    0.544198\n",
      "9    0.132001\n",
      "Name: nums, dtype: float64\n"
     ]
    }
   ],
   "source": [
    "col1 = df['nums']\n",
    "print(col1)"
   ]
  },
  {
   "cell_type": "code",
   "execution_count": 72,
   "metadata": {},
   "outputs": [
    {
     "name": "stdout",
     "output_type": "stream",
     "text": [
      "       nums  bools strings            datetime\n",
      "2  0.365450  False     car 2008-07-21 11:47:28\n",
      "3  0.885886  False     bug 2008-03-19 22:01:36\n"
     ]
    }
   ],
   "source": [
    "rows_23 = df[2:4]\n",
    "print(rows_23)"
   ]
  },
  {
   "cell_type": "code",
   "execution_count": 73,
   "metadata": {},
   "outputs": [
    {
     "name": "stdout",
     "output_type": "stream",
     "text": [
      "                         nums  bools   strings\n",
      "datetime                                      \n",
      "2008-05-28 01:22:49  0.607959   True        hi\n",
      "2008-04-30 05:30:19  0.191420  False       bye\n",
      "2008-07-21 11:47:28  0.365450  False       car\n",
      "2008-03-19 22:01:36  0.885886  False       bug\n",
      "2008-02-07 01:04:55  0.201865   True       vet\n",
      "2008-10-31 02:53:51  0.444713  False       pen\n",
      "2008-01-08 12:46:30  0.158571   True    animal\n",
      "2008-04-03 15:42:11  0.353660   True     phone\n",
      "2008-05-28 09:32:36  0.544198  False  computer\n",
      "2008-08-25 17:39:26  0.132001   True       mic\n"
     ]
    }
   ],
   "source": [
    "df.set_index('datetime', inplace=True)\n",
    "print(df)\n"
   ]
  },
  {
   "cell_type": "code",
   "execution_count": null,
   "metadata": {},
   "outputs": [],
   "source": []
  }
 ],
 "metadata": {
  "kernelspec": {
   "display_name": "Python 3",
   "language": "python",
   "name": "python3"
  },
  "language_info": {
   "codemirror_mode": {
    "name": "ipython",
    "version": 3
   },
   "file_extension": ".py",
   "mimetype": "text/x-python",
   "name": "python",
   "nbconvert_exporter": "python",
   "pygments_lexer": "ipython3",
   "version": "3.6.8"
  }
 },
 "nbformat": 4,
 "nbformat_minor": 2
}
